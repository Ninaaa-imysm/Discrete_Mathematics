{
 "cells": [
  {
   "cell_type": "markdown",
   "id": "6dda0c73-b8cc-497e-86f8-02aaf44f95e1",
   "metadata": {},
   "source": [
    "## 1. Providing Identities\n",
    "Given: A and B are sets, $\\exists$ x such that (x $\\in$ A $\\wedge$ x $\\in$ B) Show that\n",
    " \n",
    " $\\bullet$ $A \\backslash B= A \\cap BC $\n",
    "<br>  $\\bullet$ $ B=(B \\cap A) \\cup (B \\cap A^C) $\n",
    "<br>  $\\bullet$ $B \\backslash A = B \\cap A^C) $\n",
    "<br>  $\\bullet$ $ A \\cup B = A \\cup (B \\cap A^C)$\n",
    "<br> $\\bullet$ $U$i$^{\\infty}$=1$A$${i}$$^{c})$$^C=$ $\\cap$i$^{\\infty}$=1$Ai$\n",
    "\n"
   ]
  },
  {
   "cell_type": "markdown",
   "id": "a03db618-535f-42a2-a559-80318c325d6e",
   "metadata": {},
   "source": [
    "$\\bullet$ $A$ $\\backslash$ $B$ = $A$ $\\cap$ $B^C$\n",
    "<br>To prove this, we'll show that both sides are subsets of each other. \n",
    "<br>Let x be an element in A$\\backslash$B. This means x $\\in$ A and x $\\notin$ B. \n",
    "<br>Since x is in A, it is also in A$\\cap$B. \n",
    "<br>Additionally, x $\\notin$ B implies x $\\in$ B^C \n",
    "<br>$THEREFORE$, $x$ $\\in$ $A$ $\\cap$ $B \\; and \\; x$ $\\in$ $B^{C}$, \\; which implies $x$ $\\in$ $A$ $\\cap$ $B^{C}$\n",
    "\n",
    "<br>  $\\bullet$ $ B=(B \\cap A) \\cup (B \\cap A^C) $\n",
    "<br> This can be proven using the distributive property of set union over intersection.\n",
    "<br>B=$\\cap$ (A $\\cup$ A $A^C$) = Universal set, so  $B$ $\\cap$ $(A$ $\\cup$ $A^C)$  \n",
    "<br>$THEREFORE, B$ =$B$ $\\cap$ $(A$ $\\cup$ $A^C)$ $A$$\\cup$$A^C$\n",
    "\n",
    "<br><br>$\\bullet$ $B$ $\\backslash$ $A$ = $B$ $\\cap$ $A^C$: \n",
    "<br> This can be shown similarly to the first proof.\n",
    "<br><br> a.) $B$$\\backslash$$A$ $\\subseteq$ $B$ $\\cap$ $A^C$:\n",
    "<br> Let x be an element in $B$ $\\backslash$ $A$. This means x $\\in$ $B$ and x $\\notin$ $A$. \n",
    "<br>Since x is in $B$, it is also in $B$ $\\cap$ $A$. <br>Additionally, x $\\notin$ $A$ implies x $\\in$ $A^C$. \n",
    "<br> $THEREFORE,$ x $\\in$ $B$ $\\cap$A $and$ x $\\in$ $A^C$, $which \\; implies$ x $\\in$ $B$ $\\cap$ $A^C$.\n",
    "<br><br>b.) $B$ $\\cap$ $A^C$\t$\\subseteq$ $B$ $\\backslash$ $A$:\n",
    "<br>Let x be an element in B $\\cap$ $A^C$. This means x $\\in$ $B$ and x $\\in$ $A^C$. Since x $\\in$ $A^C$, x $\\notin$ A. \n",
    "<br>Therefore, $x$ $\\in$ $B$ and x $\\notin$ $A$, which implies x $\\in$ $B$ $\\backslash$ $A$.\n",
    "<br>Since both sides are subsets of each other, B$\\backslash$A = $B$$\\cap$ $A^C$.\n",
    "\n",
    "<br>$\\bullet$ $A$ $\\cup$ $B$ = $A$ $\\cup$ ($B$ $\\cap$ $A^C)$\n",
    "<br>To prove this set equality, we'll use the properties of set unions and intersections:\n",
    "<br>$A$ $\\cup$ $B$ represents all elements in either A or B, or in both.\n",
    "<br> $B$ $\\cap$ $A^C$ represents elements that are in B but not in A.\n",
    "<br> So, A $\\cup$ $(B$ $\\cap$ $A^C)$ captures elements in A and those exclusively from B, making it equal to A $\\cup$ B.\n",
    "<br>$Hence,$ $A$ $\\cup$ $B = A$ $\\cup$ $(B$ $\\cap$ $A^C)$\n",
    "\n",
    "<br>$\\bullet$ $U$i$^{\\infty}$=1$A$${ᵢ }$$^{c})$$^C=$ $\\cap$ᵢ $^{\\infty}$=1Aᵢ\n",
    "\n",
    "<br>$a.)$ $U$i$^{\\infty}$=1$A$${ᵢ }$$^{c})$$^C=$ $\\cap$ᵢ $^{\\infty}$=1$Aᵢ $ represents all elements that are not in the complement of the union of all $Aᵢ^C$ sets.\n",
    "<br>$b.)$ $\\capᵢ$ $Aᵢ$ represents all elements that are common to all Aᵢ sets.\n",
    "\n",
    "<br>Now, let's consider an arbitrary element x:\n",
    "<br>If x $\\in$ $(\\cupᵢ Aᵢ^C)^C$, it means that x is not in the complement of the union of all $Aᵢ^C$ sets.\n",
    "<br>If x is not in the complement of the union of all $Aᵢ^C$ sets, it implies that x is in at least one $Aᵢ^C$ set.\n",
    "<br>$Conversely,$\n",
    "<br>$\\bullet$ If x ∈ ∩ᵢ Aᵢ, it means that x is in the intersection of all Aᵢ sets.\n",
    "<br>$\\bullet$ If x is in the intersection of all Aᵢ sets, it implies that x is in every Aᵢ set.\n",
    "<br>Since we have established that x belongs to at least one $Aᵢ^C$ set if and only if it belongs to every Aᵢ set, it follows that the two sets contain the same elements.\n",
    "<br>$Therefore,$ $U$i$^{\\infty}$=1$A$${ᵢ}$$^{c})$$^C=$ $\\cap$ᵢ$^{\\infty}$=1$Aᵢ$ = $\\capᵢ$ $Aᵢ$\n"
   ]
  },
  {
   "cell_type": "markdown",
   "id": "63921405-0210-402f-b528-0ed0ca31bb89",
   "metadata": {},
   "source": [
    "$\\bullet$ $|A$ $\\cup$ $B|$ = $|A|$ + $|B|$ - $|A$ $\\cap$ $B|$: \n",
    "<br>|A $\\cup$ B| represents the cardinality (number of elements) of the union of sets A and B.\n",
    "<br>|A| represents the cardinality of set A.\n",
    "<br>|B| represents the cardinality of set B.\n",
    "<br>|A $\\cap$ B| represents the cardinality of the intersection of sets A and B.\n",
    "\n",
    "<br>$Therefore,$ $|A$ $\\cup$ $B|$ $= |A| + |B| -$ $|A$ $\\cap$ $B|$ $is \\; a \\; valid \\; and \\; proven \\; set \\; equality.$"
   ]
  },
  {
   "cell_type": "markdown",
   "id": "0339bfe8-d5fa-423f-b5a0-5b6f7b0cf14c",
   "metadata": {},
   "source": [
    "## 2.) Sets and Subsets\r\n",
    "\r\n",
    " $If \\;A = { 2,3,4,5 }, and \\;B = { x\\in {\\displaystyle \\mathbb {N} } \\mid x \\; is \\; even}. \\ Is \\ A \\ \\subset B?\\; Show proof.$\r\n",
    "$\\;$\r\n",
    "\r\n",
    "$\\; A = { (2,3,4,5) }$\r\n",
    "$\\;$\r\n",
    "\r\n",
    "$\\; B = { (2,4) }$\r\n",
    "\r\n",
    "$\\;$<br>2 is  an  even   natural  number, it  belongs  to  B.\r\n",
    "$\\;$<br>3 is an odd number, it does not belong to B.\r\n",
    "$\\;$<br>4 is an even natural number, it  belongs  to  B.\r\n",
    "$\\;$<br>5 is an odd number, it does not belong to B.\r\n",
    "<br><br>All elements of B are in A but not all elements of A are in B.E\r\n",
    "<br><br>$THEREFORE,$ $\\;$  $A {\\not\\subset} B$\r\n",
    "<br><br>Let sets;  \r\n",
    " **A**: = ${x|x \\in \\mathbb{Z}, 0 \\leq x \\leq 9}$\r\n",
    " <br>**B**: = {2, 4, 6, 8} \r\n",
    " <br>**C**: = {1, 3, 5, 7, 9} \r\n",
    " <br>**D**: = {3, 4, 5} \r\n",
    " <br>$Find\\;a\\;set\\;X\\;that\\;will\\;satisfy\\;a\\;following\\;condition$\r\n",
    "\r\n",
    "1. *X* and *B* $are\\;disjoint$\r\n",
    "   <br>Since *X* and *B* are disjoints then set that satisfies the condition is;\r\n",
    "<br> $X$ = {0, 1, 3, 5, 7, 9,}\r\n",
    "2. *X* $\\subset$ *D* $but$ *X* $\\nsubseteq$**B**\r\n",
    "   <br> If *X* is a subset of *D* and not a subset of *B*, so exclude the elements of *B*. Therefore;\r\n",
    "<br> $X$ = {0,3,5}\r\n",
    "3. *X* $\\subseteq$ *A* $but$ *X* $\\not\\subset$**C**\r\n",
    "   <br> If X is a subset of A but not a proper subset of C. Therefore;\r\n",
    "<br> $X$ = {0, 2, 4, 6, 8}\r\n"
   ]
  },
  {
   "cell_type": "markdown",
   "id": "92187e85-8806-41dc-9e03-45ece2b919ef",
   "metadata": {},
   "source": [
    "## 3.) Set Operations\n",
    "\n",
    "$GIVEN:$\n",
    "<br> U = {1,2,3,4,5}\n",
    "<br> A = {1,2,3,4,5}\n",
    "<br> B = {4,5,6,7}\n",
    "<br> C = {5,6,7,8,9}\n",
    "<br> D = {1,3,5,7,9}\n",
    "<br> E = {2,4,6,8}\n",
    "<br> F = {1,5,9}\n",
    "<br>${\\displaystyle \\bullet }$ **C** ${\\displaystyle \\oplus }$ **D**\n",
    "<br>${\\displaystyle \\bullet }$ **A** $\\backslash$ **B**\n",
    "<br>${\\displaystyle \\bullet }$ **B** $\\backslash$ **A**\n",
    "<br>${\\displaystyle \\bullet }$ **E** ${\\displaystyle \\oplus }$ **F**\n"
   ]
  },
  {
   "cell_type": "markdown",
   "id": "8ca8ba72-eade-4c85-8a64-19cc1bccd6ed",
   "metadata": {},
   "source": [
    "##  ${\\displaystyle \\bullet }$ **C** ${\\displaystyle \\oplus }$ **D**\n",
    "$Given:$\n",
    "<br>C = {5, 6, 7, 8, 9}\r",
    "<br>D = {1, 3, 5, 7, 9}\n",
    "<br>C ${\\displaystyle \\oplus }$ D = (C $\\cup$ D) - (C $\\cap$ D)\n",
    "<br>C $\\cup$ D = {1, 3, 5, 6, 7, 8, 9}\r",
    "<br>C $\\cap$ D = {5, 7, 9}\n",
    "<br>C ${\\displaystyle \\oplus }$ D = {1, 3, 6, 8}\r",
    "}"
   ]
  },
  {
   "cell_type": "code",
   "execution_count": 3,
   "id": "d3a9c335-959f-4de1-89b3-1b056ae12627",
   "metadata": {},
   "outputs": [
    {
     "name": "stdout",
     "output_type": "stream",
     "text": [
      "C ∪ D = {1, 3, 5, 6, 7, 8, 9}\n",
      "Is C ∪ D correct? True\n",
      "C ∩ D = {9, 5, 7}\n",
      "Is C ∩ D correct? True\n",
      "C ⊕ D = {8, 1, 3, 6}\n",
      "Is C ⊕ D correct? True\n"
     ]
    }
   ],
   "source": [
    "#pythonic solution\n",
    "\n",
    "C = {5, 6, 7, 8, 9}\n",
    "D = {1, 3, 5, 7, 9}\n",
    "\n",
    "# Calculate C ∪ D (Union)\n",
    "union_result = C | D\n",
    "union = {1, 3, 5, 6, 7, 8, 9}\n",
    "is_union_correct = union_result == union\n",
    "\n",
    "# Calculate C ∩ D (Intersection)\n",
    "intersection_result = C & D\n",
    "intersection = {5, 7, 9}\n",
    "is_intersection_correct = intersection_result == intersection\n",
    "\n",
    "# Calculate C ⊕ D (Symmetric Difference)\n",
    "symmetric_diff_result = (C | D) - (C & D)\n",
    "symmetric_diff = {1, 3, 6, 8}\n",
    "is_symmetric_diff_correct = symmetric_diff_result == symmetric_diff\n",
    "\n",
    "print(\"C ∪ D =\", union_result)\n",
    "print(\"Is C ∪ D correct?\", is_union_correct)\n",
    "\n",
    "print(\"C ∩ D =\", intersection_result)\n",
    "print(\"Is C ∩ D correct?\", is_intersection_correct)\n",
    "\n",
    "print(\"C ⊕ D =\", symmetric_diff_result)\n",
    "print(\"Is C ⊕ D correct?\", is_symmetric_diff_correct)\n"
   ]
  },
  {
   "cell_type": "markdown",
   "id": "4436920e-874d-4dbf-8a65-6fcefdf2470a",
   "metadata": {},
   "source": [
    "## <br>${\\displaystyle \\bullet }$ **A** $\\backslash$ **B**\n",
    "\n",
    "$Given:$\n",
    "<br>A = {1, 2, 3, 4, 5}\n",
    "<br>B = {4, 5, 6, 7}\n",
    "\n",
    "A $\\backslash$ B = {x | x ${\\displaystyle \\in }$ A and x ${\\displaystyle \\notin }$ B}\n",
    "\n",
    "To find A $\\backslash$ B (the set difference between A and B), you remove the elements of B from A:\n",
    "<br> A $\\backslash$ B = {x | x ${\\displaystyle \\in }$ A and x ${\\displaystyle \\notin }$ B}\n",
    "<br>1 is in A but not in B, so it remains in A $\\backslash$ B.\n",
    "<br>2 is in A but not in B, so it remains in A $\\backslash$ B.\n",
    "<br>3 is in A but not in B, so it remains in A $\\backslash$ B.\n",
    "<br>4 is in both A and B, so it is removed from A.\n",
    "<br>5 is in both A and B, so it is removed from A.\n",
    "\n",
    "Therefore, The set A $\\backslash$ B contains the elements {1, 2, 3}, which are the elements of A that are not in B.\n",
    "\n",
    "So, A $\\backslash$ B = {1, 2, 3}"
   ]
  },
  {
   "cell_type": "markdown",
   "id": "eb6a4777-d2f2-4a5e-af39-e1d752877dcb",
   "metadata": {},
   "source": []
  },
  {
   "cell_type": "code",
   "execution_count": 4,
   "id": "5cb32cdf-ed00-4a2b-a549-a33c1d1300aa",
   "metadata": {},
   "outputs": [
    {
     "name": "stdout",
     "output_type": "stream",
     "text": [
      "A \\ B = {1, 2, 3}\n",
      "Is A \\ B correct? True\n"
     ]
    }
   ],
   "source": [
    "#pythonic solution\n",
    "# Given sets\n",
    "U = {1, 2, 3, 4, 5}\n",
    "A = {1, 2, 3, 4, 5}\n",
    "B = {4, 5, 6, 7}\n",
    "\n",
    "# Calculate A \\ B (Set difference)\n",
    "A_difference_B = A - B\n",
    "\n",
    "# Proof\n",
    "# A \\ B includes all elements in A that are not in B\n",
    "# Check if every element in A_difference_B is indeed in A but not in B\n",
    "proof = all(x in A and x not in B for x in A_difference_B)\n",
    "\n",
    "print(\"A \\ B =\", A_difference_B)\n",
    "print(\"Is A \\ B correct?\", proof)\n"
   ]
  },
  {
   "cell_type": "markdown",
   "id": "cf3418b0-8770-4ae5-80ac-f4c27f8d3ca2",
   "metadata": {},
   "source": [
    "## <br>${\\displaystyle \\bullet }$ **B** $\\backslash$ **A**\n",
    "\n",
    "$Given:$\n",
    "<br>A = {1, 2, 3, 4, 5}\n",
    "<br>B = {4, 5, 6, 7}\n",
    "\n",
    "To find B$\\backslash$A (the set difference between B and A), you remove the elements of A from B:\n",
    "\n",
    "B$\\backslash$A = {${\\displaystyle \\in }$ | x ∈ B and ${\\displaystyle \\notin }$A}\n",
    "\n",
    "4 is in both B and A, so it is removed from B.\n",
    "5 is in both B and A, so it is removed from B.\n",
    "6 is in B but not in A, so it remains in B.\n",
    "7 is in B but not in A, so it remains in B.\n",
    "\n",
    "Therefore, the set B $\\backslash$A contains the elements {6, 7}, which are the elements of B that are not in A.\n",
    "\n",
    "So, B $\\backslash$ A = {6, 7}"
   ]
  },
  {
   "cell_type": "code",
   "execution_count": 5,
   "id": "db9ad003-a14e-4622-87b7-4f61c60cf02e",
   "metadata": {},
   "outputs": [
    {
     "name": "stdout",
     "output_type": "stream",
     "text": [
      "B \\ A = {6, 7}\n",
      "Is B \\ A correct? True\n"
     ]
    }
   ],
   "source": [
    "#Pythonic Solution\n",
    "# Given sets\n",
    "A = {1, 2, 3, 4, 5}\n",
    "B = {4, 5, 6, 7}\n",
    "\n",
    "# Calculate B \\ A (Set difference)\n",
    "B_difference_A = B - A\n",
    "\n",
    "# Proof\n",
    "# B \\ A includes all elements in B that are not in A\n",
    "# Check if every element in B_difference_A is indeed in B but not in A\n",
    "proof = all(x in B and x not in A for x in B_difference_A)\n",
    "\n",
    "print(\"B \\ A =\", B_difference_A)\n",
    "print(\"Is B \\ A correct?\", proof)\n",
    "\n",
    "\n"
   ]
  },
  {
   "cell_type": "markdown",
   "id": "ddf198d5-9f9e-47ce-9994-7b503befcf3f",
   "metadata": {},
   "source": [
    "## ${\\displaystyle \\bullet }$ **E** ${\\displaystyle \\oplus }$ **F**\n",
    "\n",
    "$Given:$\n",
    "<br> E = {2,4,6,8}\n",
    "<br> F = {1,5,9}\n",
    "<br>E $\\cup$ F = {1, 2, 4, 5, 6, 8, 9}\n",
    "<br>E $\\cap$ F = {}\n",
    "<br>E ${\\displaystyle \\oplus }$ F = {1, 2, 4, 5, 6, 8, 9} - {} = {1, 2, 4, 5, 6, 8, 9}\n",
    "<br> So, E ${\\displaystyle \\oplus }$ F is {1, 2, 4, 5, 6, 8, 9}\n",
    "\n",
    "Therefore, E ${\\displaystyle \\oplus }$ F consists of all the elements that are in either set E or set F but not in both.\n",
    "\n"
   ]
  },
  {
   "cell_type": "code",
   "execution_count": 6,
   "id": "1b401377-ab98-4d00-b872-d29635c24635",
   "metadata": {},
   "outputs": [
    {
     "name": "stdout",
     "output_type": "stream",
     "text": [
      "E ⊕ F = {1, 2, 4, 5, 6, 8, 9}\n",
      "Is E ⊕ F empty? False\n"
     ]
    }
   ],
   "source": [
    "#Pythonic Solution\n",
    "\n",
    "E = {2, 4, 6, 8}\n",
    "F = {1, 5, 9}\n",
    "\n",
    "symmetric_diff = E.symmetric_difference(F)\n",
    "\n",
    "# Check if the symmetric difference is empty\n",
    "is_empty = len(symmetric_diff) == 0\n",
    "\n",
    "print(\"E ⊕ F =\", symmetric_diff)\n",
    "print(\"Is E ⊕ F empty?\", is_empty)\n"
   ]
  },
  {
   "cell_type": "markdown",
   "id": "70cd0d8c-e146-4a29-878f-1fa61799b436",
   "metadata": {},
   "source": [
    "## 4.) Finite Sets and The counting principles \n",
    "\n",
    "1. In a Survey of 120 People, it was found that:\n",
    "<br>$\\bullet$65 read Newsweek Magazine\n",
    "<br>$\\bullet$45 read Times Magazine\n",
    "<br>$\\bullet$42 read Fortune Magazine\n",
    "<br>$\\bullet$20 read Both Newsweek and Time\n",
    "<br>$\\bullet$25 read both Newsweek and Fortune\n",
    "<br>$\\bullet$15 read both Time and Fortune\n",
    "<br>$\\bullet$8 read all three magazines"
   ]
  },
  {
   "cell_type": "code",
   "execution_count": 7,
   "id": "40ba31b2-eddd-4b31-a08d-a4a14c766b0b",
   "metadata": {},
   "outputs": [
    {
     "data": {
      "text/plain": [
       "(-0.4, 0.2)"
      ]
     },
     "execution_count": 7,
     "metadata": {},
     "output_type": "execute_result"
    },
    {
     "data": {
      "image/png": "[encoded data removed]",
      "text/plain": [
       "<Figure size 1200x1200 with 1 Axes>"
      ]
     },
     "metadata": {},
     "output_type": "display_data"
    }
   ],
   "source": [
    "import matplotlib.pyplot as plt\n",
    "\n",
    "fig = plt.figure(figsize=(12,12))\n",
    "\n",
    "ax = fig.add_subplot(1,1,1)\n",
    "\n",
    "ax.spines[[\"top\", \"bottom\", \"right\", \"left\"]].set_visible(False)\n",
    "ax.yaxis.set_visible(False)\n",
    "ax.xaxis.set_visible(False)\n",
    "\n",
    "plt.scatter(x=[0, 0.25, 0.13], y=[0,0,-0.2], s=150000, color=[\"pink\", \"blue\", \"purple\"], alpha=0.3)\n",
    "\n",
    "# labels\n",
    "plt.text(x=-0.2, y=0.18, s=\"Newsweek Magazine\",fontsize=23, fontweight=\"bold\", color=\"black\")\n",
    "plt.text(x=0.15, y=0.18, s=\"Times Magazine\", fontsize=23, fontweight=\"bold\", color=\"black\")\n",
    "plt.text(x=0, y=-0.4, s=\"Fortune Magazine\", fontsize=23, fontweight=\"bold\", color=\"black\")\n",
    "\n",
    "plt.text(x=-0.10, y=0.03, s=\"28\", fontsize=33, fontweight=\"bold\", color=\"black\")\n",
    "plt.text(x=0.3, y=0.03, s=\"18\", fontsize=33, fontweight=\"bold\", color=\"black\")\n",
    "plt.text(x=0.10, y=-0.25, s=\"10\", fontsize=33, fontweight=\"bold\", color=\"black\")\n",
    "plt.text(x=0.10, y=0.025, s=\"20\", fontsize=33, fontweight=\"bold\", color=\"black\")\n",
    "plt.text(x=-0.02, y=-0.13, s=\"25\", fontsize=33, fontweight=\"bold\", color=\"black\")\n",
    "plt.text(x=0.21, y=-0.13, s=\"15\", fontsize=33, fontweight=\"bold\", color=\"black\")\n",
    "plt.text(x=0.115, y=-0.09, s=\"8\", fontsize=33, fontweight=\"bold\", color=\"black\")\n",
    "\n",
    "plt.xlim(-0.25,0.5)\n",
    "plt.ylim(-0.4,0.2)"
   ]
  },
  {
   "cell_type": "markdown",
   "id": "22b3a651-9769-4a53-b385-50c0dd47db88",
   "metadata": {},
   "source": [
    "$a.) Find \\; the \\; number \\; of  \\; people \\; who \\; read \\; at \\; \"least \\; one\" \\; of \\; the \\; three \\; magazines.$\r\n",
    "<br>$\\bullet$ $|N \\cup T \\cup F|$ = $|N|+|T|+|F|=|NT|-|NF|-|TF|+|NTF|$\r\n",
    "<br>$\\bullet$ $|N \\cup T \\cup F|$= 100\r\n",
    "<br>$\\bullet$ (65 + 45 + 42) + (20 + 25 + 15 + 8):\"220\" people\r\n",
    "\r\n",
    "$b.) Find the number of people who read exactly one magazine.$\r\n",
    "<br>$\\bullet$ Newsweek Magazine = 65 - (20 + 25 - 8) = 28\r\n",
    "<br>$\\bullet$ Times Magazine = 45 - (20 + 15 - 8) = 18\r\n",
    "<br>$\\bullet$ Fortune Magazine = 42 - (25 + 15 - 8) = 10\r\n"
   ]
  },
  {
   "cell_type": "markdown",
   "id": "ddf6d525-a5b7-4885-b6a4-081fa35b9835",
   "metadata": {},
   "source": [
    "2. In a survey of 25 new cars being sold at a local auto dealer was conducted to see which of the three popular options: air-conditioning, denoted as A; radio, denoted as R; and power windows, denoted as W were installed. The survey found that: - 15 had A. - 12 had R. - 11 had W. - 5 had A and W. - 9 had A and R. - 4 had R and W. - Only 3 hace the three options. With these information do the following:"
   ]
  },
  {
   "cell_type": "markdown",
   "id": "7835944b-7d14-466a-a663-b89343220d6d",
   "metadata": {},
   "source": [
    "## 1.Draw the venn diagram using python."
   ]
  },
  {
   "cell_type": "code",
   "execution_count": 8,
   "id": "f03524ac-834b-4377-b5ee-5c022c3466b3",
   "metadata": {},
   "outputs": [
    {
     "data": {
      "image/png": "[encoded data removed]",
      "text/plain": [
       "<Figure size 640x480 with 1 Axes>"
      ]
     },
     "metadata": {},
     "output_type": "display_data"
    }
   ],
   "source": [
    "\n",
    "from matplotlib_venn import venn3\n",
    "import matplotlib.pyplot as plt\n",
    "\n",
    "A = 15\n",
    "R = 12\n",
    "W = 11\n",
    "AW = 5\n",
    "AR = 9\n",
    "RW = 4\n",
    "ARW = 3\n",
    "\n",
    "venn3(subsets=(A, R, AR, W, AW, RW, ARW), set_labels=('Air-Conditioning', 'Radio', 'Power Windows'))\n",
    "\n",
    "plt.show()\n"
   ]
  },
  {
   "cell_type": "markdown",
   "id": "ce48c651-c4ef-41c1-9e17-200bfdf751d4",
   "metadata": {},
   "source": [
    "## 2. Find the number of cars with W only.\n"
   ]
  },
  {
   "cell_type": "code",
   "execution_count": 9,
   "id": "299ad5b1-adac-4f88-887a-e8ffbbd37d50",
   "metadata": {},
   "outputs": [
    {
     "name": "stdout",
     "output_type": "stream",
     "text": [
      "Number of cars with W only: 2\n"
     ]
    }
   ],
   "source": [
    "W_only = W - AW - RW\n",
    "print(\"Number of cars with W only:\", W_only)"
   ]
  },
  {
   "cell_type": "markdown",
   "id": "e4f49202-574e-4441-8ec6-0801f02fb01b",
   "metadata": {},
   "source": [
    "## 3. Find the number of cars with A only."
   ]
  },
  {
   "cell_type": "code",
   "execution_count": 10,
   "id": "3d9b2963-be89-46d4-9017-1b2c778dcc60",
   "metadata": {},
   "outputs": [
    {
     "name": "stdout",
     "output_type": "stream",
     "text": [
      "Number of cars with A only: 1\n"
     ]
    }
   ],
   "source": [
    "A_only = A - AW - AR\n",
    "print(\"Number of cars with A only:\", A_only)"
   ]
  },
  {
   "cell_type": "markdown",
   "id": "8979b66f-d3b5-490c-b9ae-79fea498c42d",
   "metadata": {},
   "source": [
    "## 4. Find the number of cars with R only."
   ]
  },
  {
   "cell_type": "code",
   "execution_count": 11,
   "id": "da03ba7b-1119-4bdd-9f8e-d03684416f71",
   "metadata": {},
   "outputs": [
    {
     "name": "stdout",
     "output_type": "stream",
     "text": [
      "Number of cars with R only: -1\n"
     ]
    }
   ],
   "source": [
    "R_only = R - AR - RW\n",
    "print(\"Number of cars with R only:\", R_only)"
   ]
  },
  {
   "cell_type": "markdown",
   "id": "43ed407f-479e-4fb5-98d8-565596dccf27",
   "metadata": {},
   "source": [
    "## 5.Find the number of cars with both R and W but not A."
   ]
  },
  {
   "cell_type": "code",
   "execution_count": 12,
   "id": "537da7e2-7588-43b2-9ddd-9aa9f65675d0",
   "metadata": {},
   "outputs": [
    {
     "name": "stdout",
     "output_type": "stream",
     "text": [
      "Number of cars with both R and W but not A: 1\n"
     ]
    }
   ],
   "source": [
    "RW_not_A = RW - ARW\n",
    "print(\"Number of cars with both R and W but not A:\", RW_not_A)"
   ]
  },
  {
   "cell_type": "markdown",
   "id": "81c5df72-74fc-4137-8231-87103868bd4c",
   "metadata": {},
   "source": [
    "## 6. Find the number of cars with both A and R but not W."
   ]
  },
  {
   "cell_type": "code",
   "execution_count": 13,
   "id": "4a00a341-075c-40bf-afcb-8c167cdd7fb4",
   "metadata": {},
   "outputs": [
    {
     "name": "stdout",
     "output_type": "stream",
     "text": [
      "Number of cars with both A and R but not W: 6\n"
     ]
    }
   ],
   "source": [
    "AR_not_W = AR - ARW\n",
    "print(\"Number of cars with both A and R but not W:\", AR_not_W)"
   ]
  },
  {
   "cell_type": "markdown",
   "id": "ede4ed8e-db8c-4087-b028-e92a4f300eb8",
   "metadata": {},
   "source": [
    "## 7. Find the number of cars with only one of the options."
   ]
  },
  {
   "cell_type": "code",
   "execution_count": 14,
   "id": "c1dbb430-a42c-4268-a003-58b1e20a829c",
   "metadata": {},
   "outputs": [
    {
     "name": "stdout",
     "output_type": "stream",
     "text": [
      "Number of cars with only one of the options: 2\n"
     ]
    }
   ],
   "source": [
    "only_one_option = A_only + R_only + W_only\n",
    "print(\"Number of cars with only one of the options:\", only_one_option)"
   ]
  },
  {
   "cell_type": "markdown",
   "id": "239feea5-d2c5-492d-a685-1e92d7dd4687",
   "metadata": {},
   "source": [
    "## 8.Find the number of cars with at least one option."
   ]
  },
  {
   "cell_type": "code",
   "execution_count": 15,
   "id": "02250881-c7d1-4118-a290-858b812222b9",
   "metadata": {},
   "outputs": [
    {
     "name": "stdout",
     "output_type": "stream",
     "text": [
      "Number of cars with at least one option: 5\n"
     ]
    }
   ],
   "source": [
    "at_least_one_option = only_one_option + ARW\n",
    "print(\"Number of cars with at least one option:\", at_least_one_option)"
   ]
  },
  {
   "cell_type": "markdown",
   "id": "f8e4e014-641b-4a8c-b7ea-307d81658c9a",
   "metadata": {},
   "source": [
    "## 9. Find the number of cars with none of the Options."
   ]
  },
  {
   "cell_type": "markdown",
   "id": "4fa1a330-60ad-4f51-8c94-2ea5f8ff58cd",
   "metadata": {},
   "source": [
    "none_of_the_options = 25 - at_least_one_option\n",
    "print(\"Number of cars with none of the options:\", none_of_the_options)"
   ]
  }
 ],
 "metadata": {
  "kernelspec": {
   "display_name": "Python 3 (ipykernel)",
   "language": "python",
   "name": "python3"
  },
  "language_info": {
   "codemirror_mode": {
    "name": "ipython",
    "version": 3
   },
   "file_extension": ".py",
   "mimetype": "text/x-python",
   "name": "python",
   "nbconvert_exporter": "python",
   "pygments_lexer": "ipython3",
   "version": "3.11.5"
  }
 },
 "nbformat": 4,
 "nbformat_minor": 5
}
